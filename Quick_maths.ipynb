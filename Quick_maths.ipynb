{
 "cells": [
  {
   "cell_type": "markdown",
   "id": "184c214d-141b-492e-bdd2-a6f222f29aca",
   "metadata": {},
   "source": [
    "# Question 1\n",
    "Basic arthemetic"
   ]
  },
  {
   "cell_type": "code",
   "execution_count": 1,
   "id": "ca974de3-ecce-4758-a08b-8dfa8f250408",
   "metadata": {},
   "outputs": [
    {
     "data": {
      "text/plain": [
       "28"
      ]
     },
     "execution_count": 1,
     "metadata": {},
     "output_type": "execute_result"
    }
   ],
   "source": [
    "5*5+3 "
   ]
  },
  {
   "cell_type": "code",
   "execution_count": null,
   "id": "4f49a2c0-010c-43b1-a8ff-9fcbf377d0b7",
   "metadata": {},
   "outputs": [],
   "source": []
  }
 ],
 "metadata": {
  "kernelspec": {
   "display_name": "Python 3 (ipykernel)",
   "language": "python",
   "name": "python3"
  },
  "language_info": {
   "codemirror_mode": {
    "name": "ipython",
    "version": 3
   },
   "file_extension": ".py",
   "mimetype": "text/x-python",
   "name": "python",
   "nbconvert_exporter": "python",
   "pygments_lexer": "ipython3",
   "version": "3.13.5"
  }
 },
 "nbformat": 4,
 "nbformat_minor": 5
}
